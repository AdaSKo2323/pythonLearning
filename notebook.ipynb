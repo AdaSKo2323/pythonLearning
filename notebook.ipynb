{
 "cells": [
  {
   "cell_type": "markdown",
   "id": "9037d5fc",
   "metadata": {},
   "source": [
    "## python notes"
   ]
  },
  {
   "cell_type": "markdown",
   "id": "e640694d",
   "metadata": {},
   "source": [
    "First Python program"
   ]
  },
  {
   "cell_type": "code",
   "execution_count": 1,
   "id": "5e92c756",
   "metadata": {},
   "outputs": [
    {
     "name": "stdout",
     "output_type": "stream",
     "text": [
      "Hello World!\n"
     ]
    }
   ],
   "source": [
    "print(\"Hello World!\")"
   ]
  },
  {
   "cell_type": "code",
   "execution_count": null,
   "id": "36c36e51",
   "metadata": {},
   "outputs": [],
   "source": []
  }
 ],
 "metadata": {
  "kernelspec": {
   "display_name": "Python 3 (ipykernel)",
   "language": "python",
   "name": "python3"
  },
  "language_info": {
   "codemirror_mode": {
    "name": "ipython",
    "version": 3
   },
   "file_extension": ".py",
   "mimetype": "text/x-python",
   "name": "python",
   "nbconvert_exporter": "python",
   "pygments_lexer": "ipython3",
   "version": "3.9.7"
  }
 },
 "nbformat": 4,
 "nbformat_minor": 5
}
